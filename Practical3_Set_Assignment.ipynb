{
 "cells": [
  {
   "cell_type": "markdown",
   "id": "2c753d20",
   "metadata": {},
   "source": [
    "# Practical Assignment 3 - Set Operations in Python"
   ]
  },
  {
   "cell_type": "markdown",
   "id": "3862f398",
   "metadata": {},
   "source": [
    "### 1. Create a set and display its elements"
   ]
  },
  {
   "cell_type": "code",
   "execution_count": null,
   "id": "c04e191d",
   "metadata": {},
   "outputs": [],
   "source": [
    "my_set = {1, 2, 3, 4}\n",
    "print('Set elements:', my_set)"
   ]
  },
  {
   "cell_type": "markdown",
   "id": "3556312b",
   "metadata": {},
   "source": [
    "### 2. Add an element to a set"
   ]
  },
  {
   "cell_type": "code",
   "execution_count": null,
   "id": "43aca045",
   "metadata": {},
   "outputs": [],
   "source": [
    "my_set.add(5)\n",
    "print('After adding 5:', my_set)"
   ]
  },
  {
   "cell_type": "markdown",
   "id": "c88ef2ce",
   "metadata": {},
   "source": [
    "### 3. Remove an element from a set"
   ]
  },
  {
   "cell_type": "code",
   "execution_count": null,
   "id": "a0600651",
   "metadata": {},
   "outputs": [],
   "source": [
    "my_set.remove(2)\n",
    "print('After removing 2:', my_set)"
   ]
  },
  {
   "cell_type": "markdown",
   "id": "3e74ccb9",
   "metadata": {},
   "source": [
    "### 4. Clear all elements from a set"
   ]
  },
  {
   "cell_type": "code",
   "execution_count": null,
   "id": "893f0062",
   "metadata": {},
   "outputs": [],
   "source": [
    "my_set.clear()\n",
    "print('After clearing:', my_set)"
   ]
  },
  {
   "cell_type": "markdown",
   "id": "68623e8d",
   "metadata": {},
   "source": [
    "### 5. Copy a set to another set"
   ]
  },
  {
   "cell_type": "code",
   "execution_count": null,
   "id": "c7b07bf9",
   "metadata": {},
   "outputs": [],
   "source": [
    "my_set = {1, 2, 3}\n",
    "copy_set = my_set.copy()\n",
    "print('Copied set:', copy_set)"
   ]
  },
  {
   "cell_type": "markdown",
   "id": "5d01d629",
   "metadata": {},
   "source": [
    "### 6. Check if an element exists in a set"
   ]
  },
  {
   "cell_type": "code",
   "execution_count": null,
   "id": "99b2b695",
   "metadata": {},
   "outputs": [],
   "source": [
    "print(2 in my_set)"
   ]
  },
  {
   "cell_type": "markdown",
   "id": "effdd5f8",
   "metadata": {},
   "source": [
    "### 7. Find the length of a set"
   ]
  },
  {
   "cell_type": "code",
   "execution_count": null,
   "id": "d7f37548",
   "metadata": {},
   "outputs": [],
   "source": [
    "print('Length of set:', len(my_set))"
   ]
  },
  {
   "cell_type": "markdown",
   "id": "d6eab9f7",
   "metadata": {},
   "source": [
    "### 8. Iterate through a set using a loop"
   ]
  },
  {
   "cell_type": "code",
   "execution_count": null,
   "id": "3fc3a913",
   "metadata": {},
   "outputs": [],
   "source": [
    "for item in my_set:\n",
    "    print(item)"
   ]
  },
  {
   "cell_type": "markdown",
   "id": "4ae6b51a",
   "metadata": {},
   "source": [
    "### 9. Find the union of two sets"
   ]
  },
  {
   "cell_type": "code",
   "execution_count": null,
   "id": "12e93a93",
   "metadata": {},
   "outputs": [],
   "source": [
    "a = {1, 2, 3}\n",
    "b = {3, 4, 5}\n",
    "print('Union:', a.union(b))"
   ]
  },
  {
   "cell_type": "markdown",
   "id": "f3d78f66",
   "metadata": {},
   "source": [
    "### 10. Find the intersection of two sets"
   ]
  },
  {
   "cell_type": "code",
   "execution_count": null,
   "id": "ed5cc6d8",
   "metadata": {},
   "outputs": [],
   "source": [
    "print('Intersection:', a.intersection(b))"
   ]
  },
  {
   "cell_type": "markdown",
   "id": "c1155b9a",
   "metadata": {},
   "source": [
    "### 11. Find the difference between two sets"
   ]
  },
  {
   "cell_type": "code",
   "execution_count": null,
   "id": "14b0378f",
   "metadata": {},
   "outputs": [],
   "source": [
    "print('Difference (a - b):', a.difference(b))"
   ]
  },
  {
   "cell_type": "markdown",
   "id": "56c21149",
   "metadata": {},
   "source": [
    "### 12. Find the symmetric difference between two sets"
   ]
  },
  {
   "cell_type": "code",
   "execution_count": null,
   "id": "1ba61d92",
   "metadata": {},
   "outputs": [],
   "source": [
    "print('Symmetric Difference:', a.symmetric_difference(b))"
   ]
  },
  {
   "cell_type": "markdown",
   "id": "298037f2",
   "metadata": {},
   "source": [
    "### 13. Check if one set is a subset of another"
   ]
  },
  {
   "cell_type": "code",
   "execution_count": null,
   "id": "e046ef34",
   "metadata": {},
   "outputs": [],
   "source": [
    "print('a is subset of b:', a.issubset(b))"
   ]
  },
  {
   "cell_type": "markdown",
   "id": "ac4dbd32",
   "metadata": {},
   "source": [
    "### 14. Check if one set is a superset of another"
   ]
  },
  {
   "cell_type": "code",
   "execution_count": null,
   "id": "f7341bbc",
   "metadata": {},
   "outputs": [],
   "source": [
    "print('a is superset of b:', a.issuperset(b))"
   ]
  },
  {
   "cell_type": "markdown",
   "id": "a6a21772",
   "metadata": {},
   "source": [
    "### 15. Check if two sets are disjoint"
   ]
  },
  {
   "cell_type": "code",
   "execution_count": null,
   "id": "6cd575a5",
   "metadata": {},
   "outputs": [],
   "source": [
    "print('a and b are disjoint:', a.isdisjoint(b))"
   ]
  },
  {
   "cell_type": "markdown",
   "id": "5b20a3d6",
   "metadata": {},
   "source": [
    "### 16. Remove duplicates from a list using a set"
   ]
  },
  {
   "cell_type": "code",
   "execution_count": null,
   "id": "038ebb6c",
   "metadata": {},
   "outputs": [],
   "source": [
    "my_list = [1, 2, 2, 3, 4, 4]\n",
    "unique_set = set(my_list)\n",
    "print('Without duplicates:', unique_set)"
   ]
  },
  {
   "cell_type": "markdown",
   "id": "86a022a5",
   "metadata": {},
   "source": [
    "### 17. Convert a list to a set and back to a list"
   ]
  },
  {
   "cell_type": "code",
   "execution_count": null,
   "id": "2d8f3145",
   "metadata": {},
   "outputs": [],
   "source": [
    "new_list = list(set(my_list))\n",
    "print('List after removing duplicates:', new_list)"
   ]
  },
  {
   "cell_type": "markdown",
   "id": "9e539a15",
   "metadata": {},
   "source": [
    "### 18. Find common elements in two lists using sets"
   ]
  },
  {
   "cell_type": "code",
   "execution_count": null,
   "id": "0d7ae2ca",
   "metadata": {},
   "outputs": [],
   "source": [
    "list1 = [1, 2, 3]\n",
    "list2 = [2, 3, 4]\n",
    "common = set(list1) & set(list2)\n",
    "print('Common elements:', common)"
   ]
  },
  {
   "cell_type": "markdown",
   "id": "1ddc75dc",
   "metadata": {},
   "source": [
    "### 19. Get elements in one list but not in another using sets"
   ]
  },
  {
   "cell_type": "code",
   "execution_count": null,
   "id": "32970c2c",
   "metadata": {},
   "outputs": [],
   "source": [
    "unique = set(list1) - set(list2)\n",
    "print('Unique to list1:', unique)"
   ]
  },
  {
   "cell_type": "markdown",
   "id": "411297ec",
   "metadata": {},
   "source": [
    "### 20. Use set comprehension to generate a set"
   ]
  },
  {
   "cell_type": "code",
   "execution_count": null,
   "id": "538b6773",
   "metadata": {},
   "outputs": [],
   "source": [
    "squares = {x*x for x in range(1, 6)}\n",
    "print('Squares:', squares)"
   ]
  },
  {
   "cell_type": "markdown",
   "id": "a578db4d",
   "metadata": {},
   "source": [
    "### 21. Create and print a frozenset"
   ]
  },
  {
   "cell_type": "code",
   "execution_count": null,
   "id": "ae835628",
   "metadata": {},
   "outputs": [],
   "source": [
    "frozen = frozenset([1, 2, 3, 4])\n",
    "print('Frozenset:', frozen)"
   ]
  }
 ],
 "metadata": {},
 "nbformat": 4,
 "nbformat_minor": 5
}
